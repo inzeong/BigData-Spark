{
 "cells": [
  {
   "cell_type": "code",
   "execution_count": 25,
   "metadata": {},
   "outputs": [],
   "source": [
    "from sklearn.model_selection import train_test_split\n",
    "from sklearn.decomposition import PCA\n",
    "from pyspark import SparkConf, SparkContext\n",
    "import numpy as np\n",
    "import pandas as pd\n",
    "import matplotlib.pyplot as plt"
   ]
  },
  {
   "cell_type": "code",
   "execution_count": 2,
   "metadata": {},
   "outputs": [],
   "source": [
    "conf = SparkConf().setAppName(\"LogisticRegression\").setMaster(\"local[4]\")\n",
    "sc = SparkContext(conf=conf)"
   ]
  },
  {
   "cell_type": "code",
   "execution_count": 31,
   "metadata": {},
   "outputs": [],
   "source": [
    "DATA_PATH = \"data/cardio_train.csv\"\n",
    "NUMERIC_COLUMNS = [0, 2, 3, 4, 5]\n",
    "EPOCHS = 50\n",
    "ETA = 1e-4\n",
    "NUM_WEIGHTS = 12"
   ]
  },
  {
   "cell_type": "code",
   "execution_count": 32,
   "metadata": {},
   "outputs": [
    {
     "data": {
      "text/html": [
       "<div>\n",
       "<style scoped>\n",
       "    .dataframe tbody tr th:only-of-type {\n",
       "        vertical-align: middle;\n",
       "    }\n",
       "\n",
       "    .dataframe tbody tr th {\n",
       "        vertical-align: top;\n",
       "    }\n",
       "\n",
       "    .dataframe thead th {\n",
       "        text-align: right;\n",
       "    }\n",
       "</style>\n",
       "<table border=\"1\" class=\"dataframe\">\n",
       "  <thead>\n",
       "    <tr style=\"text-align: right;\">\n",
       "      <th></th>\n",
       "      <th>id</th>\n",
       "      <th>age</th>\n",
       "      <th>gender</th>\n",
       "      <th>height</th>\n",
       "      <th>weight</th>\n",
       "      <th>ap_hi</th>\n",
       "      <th>ap_lo</th>\n",
       "      <th>cholesterol</th>\n",
       "      <th>gluc</th>\n",
       "      <th>smoke</th>\n",
       "      <th>alco</th>\n",
       "      <th>active</th>\n",
       "      <th>cardio</th>\n",
       "    </tr>\n",
       "  </thead>\n",
       "  <tbody>\n",
       "    <tr>\n",
       "      <th>0</th>\n",
       "      <td>0</td>\n",
       "      <td>18393</td>\n",
       "      <td>2</td>\n",
       "      <td>168</td>\n",
       "      <td>62.0</td>\n",
       "      <td>110</td>\n",
       "      <td>80</td>\n",
       "      <td>1</td>\n",
       "      <td>1</td>\n",
       "      <td>0</td>\n",
       "      <td>0</td>\n",
       "      <td>1</td>\n",
       "      <td>0</td>\n",
       "    </tr>\n",
       "    <tr>\n",
       "      <th>1</th>\n",
       "      <td>1</td>\n",
       "      <td>20228</td>\n",
       "      <td>1</td>\n",
       "      <td>156</td>\n",
       "      <td>85.0</td>\n",
       "      <td>140</td>\n",
       "      <td>90</td>\n",
       "      <td>3</td>\n",
       "      <td>1</td>\n",
       "      <td>0</td>\n",
       "      <td>0</td>\n",
       "      <td>1</td>\n",
       "      <td>1</td>\n",
       "    </tr>\n",
       "    <tr>\n",
       "      <th>2</th>\n",
       "      <td>2</td>\n",
       "      <td>18857</td>\n",
       "      <td>1</td>\n",
       "      <td>165</td>\n",
       "      <td>64.0</td>\n",
       "      <td>130</td>\n",
       "      <td>70</td>\n",
       "      <td>3</td>\n",
       "      <td>1</td>\n",
       "      <td>0</td>\n",
       "      <td>0</td>\n",
       "      <td>0</td>\n",
       "      <td>1</td>\n",
       "    </tr>\n",
       "    <tr>\n",
       "      <th>3</th>\n",
       "      <td>3</td>\n",
       "      <td>17623</td>\n",
       "      <td>2</td>\n",
       "      <td>169</td>\n",
       "      <td>82.0</td>\n",
       "      <td>150</td>\n",
       "      <td>100</td>\n",
       "      <td>1</td>\n",
       "      <td>1</td>\n",
       "      <td>0</td>\n",
       "      <td>0</td>\n",
       "      <td>1</td>\n",
       "      <td>1</td>\n",
       "    </tr>\n",
       "    <tr>\n",
       "      <th>4</th>\n",
       "      <td>4</td>\n",
       "      <td>17474</td>\n",
       "      <td>1</td>\n",
       "      <td>156</td>\n",
       "      <td>56.0</td>\n",
       "      <td>100</td>\n",
       "      <td>60</td>\n",
       "      <td>1</td>\n",
       "      <td>1</td>\n",
       "      <td>0</td>\n",
       "      <td>0</td>\n",
       "      <td>0</td>\n",
       "      <td>0</td>\n",
       "    </tr>\n",
       "  </tbody>\n",
       "</table>\n",
       "</div>"
      ],
      "text/plain": [
       "   id    age  gender  height  weight  ap_hi  ap_lo  cholesterol  gluc  smoke  \\\n",
       "0   0  18393       2     168    62.0    110     80            1     1      0   \n",
       "1   1  20228       1     156    85.0    140     90            3     1      0   \n",
       "2   2  18857       1     165    64.0    130     70            3     1      0   \n",
       "3   3  17623       2     169    82.0    150    100            1     1      0   \n",
       "4   4  17474       1     156    56.0    100     60            1     1      0   \n",
       "\n",
       "   alco  active  cardio  \n",
       "0     0       1       0  \n",
       "1     0       1       1  \n",
       "2     0       0       1  \n",
       "3     0       1       1  \n",
       "4     0       0       0  "
      ]
     },
     "execution_count": 32,
     "metadata": {},
     "output_type": "execute_result"
    }
   ],
   "source": [
    "data = pd.read_csv(DATA_PATH, sep=\";\")\n",
    "data.head()"
   ]
  },
  {
   "cell_type": "code",
   "execution_count": 36,
   "metadata": {},
   "outputs": [
    {
     "data": {
      "text/plain": [
       "(70000, 13)"
      ]
     },
     "execution_count": 36,
     "metadata": {},
     "output_type": "execute_result"
    }
   ],
   "source": [
    "data.shape"
   ]
  },
  {
   "cell_type": "code",
   "execution_count": 38,
   "metadata": {},
   "outputs": [],
   "source": [
    "def read_data():\n",
    "    # read data\n",
    "    data = pd.read_csv(DATA_PATH, sep=\";\")\n",
    "\n",
    "    # gender preprocessing\n",
    "    data[\"gender\"] = data[\"gender\"] - 1\n",
    "\n",
    "    # extract x, y\n",
    "    data = data.values[:, 1:]\n",
    "    x, y = data[:, :-1], data[:, -1]\n",
    "\n",
    "    # train test split\n",
    "    x_train, x_test, y_train, y_test = train_test_split(x, y, train_size=6/7)\n",
    "\n",
    "    # standardize\n",
    "    mean = x_train[:, NUMERIC_COLUMNS].mean(axis=0)\n",
    "    std = x_train[:, NUMERIC_COLUMNS].std(axis=0)\n",
    "    x_train[:, NUMERIC_COLUMNS] = (x_train[:, NUMERIC_COLUMNS] - mean) / (std + 1e-8)\n",
    "    x_test[:, NUMERIC_COLUMNS] = (x_test[:, NUMERIC_COLUMNS] - mean) / (std + 1e-8)\n",
    "\n",
    "    # append bias term\n",
    "    N_train = x_train.shape[0]\n",
    "    N_test = x_test.shape[0]\n",
    "    x_train = np.concatenate([np.ones((N_train, 1)), x_train], axis=1)\n",
    "    x_test = np.concatenate([np.ones((N_test, 1)), x_test], axis=1)\n",
    "\n",
    "    return x_train, y_train, x_test, y_test"
   ]
  },
  {
   "cell_type": "code",
   "execution_count": 7,
   "metadata": {},
   "outputs": [],
   "source": [
    "def parse_data(x, y):\n",
    "    N = x.shape[0]\n",
    "    return list(map(lambda i: (x[i], y[i]), range(N)))"
   ]
  },
  {
   "cell_type": "code",
   "execution_count": 28,
   "metadata": {},
   "outputs": [],
   "source": [
    "def initialize_weights(num_weights):\n",
    "    w = np.random.randn(num_weights)\n",
    "    return w"
   ]
  },
  {
   "cell_type": "code",
   "execution_count": 22,
   "metadata": {},
   "outputs": [],
   "source": [
    "def sigmoid(z):\n",
    "    return 1 / (1 + np.exp(-z))"
   ]
  },
  {
   "cell_type": "code",
   "execution_count": 37,
   "metadata": {},
   "outputs": [],
   "source": [
    "def compute_accuracy(y_pred, y_true):\n",
    "    y_pred[y_pred < 0.5] = 0\n",
    "    y_pred[y_pred >= 0.5] = 1\n",
    "\n",
    "    acc = (y_true == y_pred).astype(np.float32).mean()\n",
    "    return acc"
   ]
  },
  {
   "cell_type": "code",
   "execution_count": 56,
   "metadata": {},
   "outputs": [],
   "source": [
    "def train_logistic_regression():\n",
    "    # read data\n",
    "    x_train, y_train, x_test, y_test = read_data()\n",
    "\n",
    "    # data visualize\n",
    "    pca = PCA(n_components=2)\n",
    "    x_train_pca = pca.fit_transform(x_train)\n",
    "\n",
    "    plt.scatter(x_train_pca[y_train == 0, 0], x_train_pca[y_train == 0, 1], label=\"label 0\", color=\"blue\", alpha=0.3, s=2)\n",
    "    plt.scatter(x_train_pca[y_train == 1, 0], x_train_pca[y_train == 1, 1], label=\"label 1\", color=\"orange\", alpha=0.3, s=2)\n",
    "    plt.title(\"train data\")\n",
    "    plt.legend()\n",
    "    plt.show()\n",
    "    \n",
    "    x_test_pca = pca.transform(x_test)\n",
    "\n",
    "    plt.scatter(x_test_pca[y_test == 0, 0], x_test_pca[y_test == 0, 1], label=\"label 0\", color=\"blue\", alpha=0.3, s=2)\n",
    "    plt.scatter(x_test_pca[y_test == 1, 0], x_test_pca[y_test == 1, 1], label=\"label 1\", color=\"orange\", alpha=0.3, s=2)\n",
    "    plt.title(\"test data\")\n",
    "    plt.legend()\n",
    "    plt.show()\n",
    "\n",
    "    # prepare data\n",
    "    train_data = sc.parallelize(parse_data(x_train, y_train))\n",
    "    test_data = sc.parallelize(parse_data(x_test, y_test))\n",
    "\n",
    "    # initialize weights\n",
    "    w = initialize_weights(NUM_WEIGHTS)\n",
    "    w_bc = sc.broadcast(w)\n",
    "\n",
    "    # training\n",
    "    for e in range(EPOCHS):\n",
    "        # compute gradients\n",
    "        grads = train_data.map(lambda kv: (kv[1] - sigmoid(np.dot(w_bc.value, kv[0])))*kv[0]) \\\n",
    "                          .reduce(lambda a, b: a + b)\n",
    "\n",
    "        # weights update\n",
    "        w = w + ETA*grads\n",
    "        w_bc.unpersist()\n",
    "        w_bc = sc.broadcast(w)\n",
    "\n",
    "    # compute prediction\n",
    "    y_train_pred = train_data.map(lambda kv: sigmoid(np.dot(w_bc.value, kv[0]))) \\\n",
    "                             .collect()\n",
    "    y_test_pred = test_data.map(lambda kv: sigmoid(np.dot(w_bc.value, kv[0]))) \\\n",
    "                           .collect()\n",
    "\n",
    "    y_train_pred = np.array(y_train_pred)\n",
    "    y_test_pred = np.array(y_test_pred)\n",
    "\n",
    "    print(f\"Train accuracy: {compute_accuracy(y_train_pred, y_train)}\")\n",
    "    print(f\"Test accuracy: {compute_accuracy(y_test_pred, y_test)}\")"
   ]
  },
  {
   "cell_type": "code",
   "execution_count": 57,
   "metadata": {},
   "outputs": [
    {
     "data": {
      "image/png": "[encoded data removed]",
      "text/plain": [
       "<Figure size 432x288 with 1 Axes>"
      ]
     },
     "metadata": {
      "needs_background": "light"
     },
     "output_type": "display_data"
    },
    {
     "data": {
      "image/png": "[encoded data removed]",
      "text/plain": [
       "<Figure size 432x288 with 1 Axes>"
      ]
     },
     "metadata": {
      "needs_background": "light"
     },
     "output_type": "display_data"
    },
    {
     "name": "stdout",
     "output_type": "stream",
     "text": [
      "Train accuracy: 0.5615833401679993\n",
      "Test accuracy: 0.5604000091552734\n"
     ]
    }
   ],
   "source": [
    "train_logistic_regression()"
   ]
  }
 ],
 "metadata": {
  "interpreter": {
   "hash": "99daf25f672dfd28ecc9fd95956e572b49ece662b747b676391e148f5891448a"
  },
  "kernelspec": {
   "display_name": "Python 3",
   "language": "python",
   "name": "python3"
  },
  "language_info": {
   "codemirror_mode": {
    "name": "ipython",
    "version": 3
   },
   "file_extension": ".py",
   "mimetype": "text/x-python",
   "name": "python",
   "nbconvert_exporter": "python",
   "pygments_lexer": "ipython3",
   "version": "3.8.11"
  }
 },
 "nbformat": 4,
 "nbformat_minor": 4
}
