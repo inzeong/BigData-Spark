{
 "cells": [
  {
   "cell_type": "markdown",
   "metadata": {},
   "source": [
    "### 입력 데이터 \n",
    "\n",
    "* 위치: input.zip\n",
    "* 파일: input.txt\n",
    "\n",
    "\n",
    "### 문제\n",
    "\n",
    "* 출현하는 단어의 첫 번째 두 글자 (= 길이2짜리 머리글자)의 출현 빈도를 세고 이 출현빈도가 정확히 32인 \"길이 2짜리 머리글자\"로 시작하는 단어들을 중복없이 나열하였을 때 그 개수를 계산하시오.\n",
    "* 예를 들어 \"active action accuracy behave behave behave \"라는 문서가 있다면 첫번째 두글자의 출현 빈도는 (ac, 3), (be, 3) 가 될테고, 그 중 예를 들어 출현빈도가 정확히 3인 \"두글자\"로 시작하는 단어들의 리스트는 active action accuracy behave behave behave 가 될것이고 이를 중복없이 나열하였을 때 그 개수는 4이다.\n",
    "* 힌트: groupByKey를 써서 두글자의 카운트를 세고 flatMap을 써서 출현빈도가 32인 길이 2인 머리글자를 가진 단어를 리스트한 다음 count 가능\n",
    "\n",
    "\n",
    "**주의**\n",
    "* 대소문자 구별하지 않는다.\n",
    "* 문장부호(, . ? ‘ “ 등)은 따로 처리하지 않는다."
   ]
  },
  {
   "cell_type": "code",
   "execution_count": 1,
   "metadata": {},
   "outputs": [],
   "source": [
    "import findspark\n",
    "findspark.init()\n",
    "from pyspark import SparkContext\n",
    "sc = SparkContext(\"local\", \"trans2\")"
   ]
  },
  {
   "cell_type": "code",
   "execution_count": 21,
   "metadata": {},
   "outputs": [],
   "source": [
    "input_rdd = sc.textFile(\"input.txt\")\n",
    "flatten_rdd = input_rdd.flatMap(lambda line: line.split(' '))"
   ]
  },
  {
   "cell_type": "code",
   "execution_count": 31,
   "metadata": {},
   "outputs": [],
   "source": [
    "grouped_rdd = flatten_rdd.map(lambda w: (w[:2].upper(), w)).groupByKey().mapValues(list)\n",
    "count32_rdd = grouped_rdd.filter(lambda t: len(t[1]) == 32)"
   ]
  },
  {
   "cell_type": "code",
   "execution_count": 34,
   "metadata": {},
   "outputs": [
    {
     "data": {
      "text/plain": [
       "35"
      ]
     },
     "execution_count": 34,
     "metadata": {},
     "output_type": "execute_result"
    }
   ],
   "source": [
    "count32_rdd.flatMap(lambda t: t[1]).distinct().count()"
   ]
  }
 ],
 "metadata": {
  "kernelspec": {
   "display_name": "Python 3",
   "language": "python",
   "name": "python3"
  },
  "language_info": {
   "codemirror_mode": {
    "name": "ipython",
    "version": 3
   },
   "file_extension": ".py",
   "mimetype": "text/x-python",
   "name": "python",
   "nbconvert_exporter": "python",
   "pygments_lexer": "ipython3",
   "version": "3.6.9"
  }
 },
 "nbformat": 4,
 "nbformat_minor": 4
}
