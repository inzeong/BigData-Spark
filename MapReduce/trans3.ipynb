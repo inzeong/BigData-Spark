{
 "cells": [
  {
   "cell_type": "markdown",
   "metadata": {},
   "source": [
    "### 입력 데이터:\n",
    "\n",
    "* 다운로드: input.zip\n",
    "* 설명: 영화DB사이트 (MovieLens)에서 수집된 데이터로서 u.data에는 사용자가 영화에 매긴 평점이 담겨있고 u.item에는 영화마다 제목, 카테고리 등의 정보가 담겨 있다.\n",
    "\n",
    "\n",
    "#### 입력파일 1 - u.data\n",
    "\n",
    "\n",
    "* 라인마다 사용자의 영화평점이 기록되어 있으며 4개의 속성 \"user id \\t item id \\t rating \\t timestamp\"가 탭으로 구분되어 작성되어 있다. (즉, split(\"\\t\") 로 자를 수 있음)\n",
    "* 모두 integer값이다.\n",
    "* 한 사람이 여러개의 영화에 평점을 매길 수 있으므로 같은 user id로 시작하는 라인이 복수번 나타날수 있다.\n",
    "* item id는 아래 u.item파일에 있는 영화 아이디 (movie id)를 가리킨다 (즉, foreign key)\n",
    "* rating은 1에서 5까지 범위이다.\n",
    "\n",
    "\n",
    "#### 입력파일 2 - u.item\n",
    "\n",
    "\n",
    "* 라인마다 영화 정보가 기록되어 있으며 \"movie id | movie title | release date | video release date | IMDb URL | unknown | Action | Adventure | Animation | Children's | Comedy | Crime | Documentary | Drama | Fantasy | Film-Noir | Horror | Musical | Mystery | Romance | Sci-Fi | Thriller | War | Western\" 의 속성 들이 파이프라인(|)으로 구분되어 작성되어 있다.\n",
    "* 그러나 아래 문제를 보면 맨 앞의 두개 속성, movie id와 movie title 만 사용한다.\n",
    "* movie id는 이 파일 안에서 한번만 나타난다 (즉, primary key)\n",
    "\n",
    "\n",
    "### 문제 1.\n",
    "* 5점을 받은 영화 중에서 알파벳 'T'로 시작하는 영화의 개수는?\n",
    "* 'T'는 대문자\n",
    "* 주의: 5점을 받은 영화중 알파벳 'T'로 시작하는 영화를 중복해서 세지 않도록!\n",
    "* 제한조건: 마지막 action으로 답이 출력되도록 코드를 작성하시오. 즉, 최종 답을 계산하기 위해 pyspark action이 아닌 python 코드를 사용하지 마시오.\n",
    "\n",
    "### 문제 2.\n",
    "* 사용자들에게 1점도 받고 5점도 받은 적이 있는 영화의 제목의 길이 중 가장 긴 영화제목의 길이는 [공백 1개]이다.\n",
    "* 동일 영화가 어떤 사용자에게는 1점, 어떤 사용자에게는 5점을 받은 경우를 말함\n",
    "* 힌트: cogroup을 쓸 수도 있고 groupByKey를 쓸 수도 있음.\n",
    "* 제한조건: 마지막 action으로 답이 출력되도록 코드를 작성하시오. 즉, 최종 답을 계산하기 위해 pyspark action이 아닌 python 코드를 사용하지 마시오."
   ]
  },
  {
   "cell_type": "code",
   "execution_count": 1,
   "metadata": {},
   "outputs": [],
   "source": [
    "import findspark\n",
    "findspark.init()\n",
    "from pyspark import SparkContext\n",
    "\n",
    "sc = SparkContext(\"local\", \"transformation 3\")"
   ]
  },
  {
   "cell_type": "code",
   "execution_count": 2,
   "metadata": {},
   "outputs": [],
   "source": [
    "u_data = sc.textFile(\"u.data\")\n",
    "u_data = u_data.map(lambda x: tuple(x.split(\"\\t\")[1:3]))"
   ]
  },
  {
   "cell_type": "code",
   "execution_count": 3,
   "metadata": {},
   "outputs": [
    {
     "data": {
      "text/plain": [
       "[('242', '3'),\n",
       " ('302', '3'),\n",
       " ('377', '1'),\n",
       " ('51', '2'),\n",
       " ('346', '1'),\n",
       " ('474', '4'),\n",
       " ('265', '2'),\n",
       " ('465', '5'),\n",
       " ('451', '3'),\n",
       " ('86', '3')]"
      ]
     },
     "execution_count": 3,
     "metadata": {},
     "output_type": "execute_result"
    }
   ],
   "source": [
    "u_data.take(10)"
   ]
  },
  {
   "cell_type": "code",
   "execution_count": 4,
   "metadata": {},
   "outputs": [],
   "source": [
    "u_item = sc.textFile(\"u.item\")\n",
    "u_item = u_item.map(lambda x: tuple(x.split(\"|\")[:2]))"
   ]
  },
  {
   "cell_type": "code",
   "execution_count": 5,
   "metadata": {},
   "outputs": [
    {
     "data": {
      "text/plain": [
       "[('1', 'Toy Story (1995)'),\n",
       " ('2', 'GoldenEye (1995)'),\n",
       " ('3', 'Four Rooms (1995)'),\n",
       " ('4', 'Get Shorty (1995)'),\n",
       " ('5', 'Copycat (1995)'),\n",
       " ('6', 'Shanghai Triad (Yao a yao yao dao waipo qiao) (1995)'),\n",
       " ('7', 'Twelve Monkeys (1995)'),\n",
       " ('8', 'Babe (1995)'),\n",
       " ('9', 'Dead Man Walking (1995)'),\n",
       " ('10', 'Richard III (1995)')]"
      ]
     },
     "execution_count": 5,
     "metadata": {},
     "output_type": "execute_result"
    }
   ],
   "source": [
    "u_item.take(10)"
   ]
  },
  {
   "cell_type": "code",
   "execution_count": 6,
   "metadata": {},
   "outputs": [
    {
     "data": {
      "text/plain": [
       "True"
      ]
     },
     "execution_count": 6,
     "metadata": {},
     "output_type": "execute_result"
    }
   ],
   "source": [
    "u_item.count() == u_item.map(lambda x: x[0]).distinct().count()"
   ]
  },
  {
   "cell_type": "markdown",
   "metadata": {},
   "source": [
    "## 5점을 받은 영화 중에서 알파벳 'T'로 시작하는 영화의 개수 "
   ]
  },
  {
   "cell_type": "code",
   "execution_count": 7,
   "metadata": {},
   "outputs": [
    {
     "data": {
      "text/plain": [
       "[('1', 'Toy Story (1995)'),\n",
       " ('7', 'Twelve Monkeys (1995)'),\n",
       " ('23', 'Taxi Driver (1976)'),\n",
       " ('40', 'To Wong Foo, Thanks for Everything! Julie Newmar (1995)'),\n",
       " ('59', 'Three Colors: Red (1994)')]"
      ]
     },
     "execution_count": 7,
     "metadata": {},
     "output_type": "execute_result"
    }
   ],
   "source": [
    "u_item.filter(lambda x: x[1][0] == 'T').take(5)"
   ]
  },
  {
   "cell_type": "code",
   "execution_count": 8,
   "metadata": {},
   "outputs": [
    {
     "data": {
      "text/plain": [
       "[('465', '5'), ('1014', '5'), ('222', '5'), ('387', '5'), ('95', '5')]"
      ]
     },
     "execution_count": 8,
     "metadata": {},
     "output_type": "execute_result"
    }
   ],
   "source": [
    "u_data.filter(lambda x: x[1] == '5').take(5)"
   ]
  },
  {
   "cell_type": "code",
   "execution_count": 9,
   "metadata": {},
   "outputs": [
    {
     "data": {
      "text/plain": [
       "75"
      ]
     },
     "execution_count": 9,
     "metadata": {},
     "output_type": "execute_result"
    }
   ],
   "source": [
    "u_data.filter(lambda x: x[1] == '5').join(u_item.filter(lambda x: x[1][0] == 'T')).distinct().count()"
   ]
  },
  {
   "cell_type": "markdown",
   "metadata": {},
   "source": [
    "## 1점도 받고 5점도 받은 영화의 제목의 길이중 가장 긴 영화제목의 길이는?"
   ]
  },
  {
   "cell_type": "code",
   "execution_count": 10,
   "metadata": {},
   "outputs": [
    {
     "data": {
      "text/plain": [
       "81"
      ]
     },
     "execution_count": 10,
     "metadata": {},
     "output_type": "execute_result"
    }
   ],
   "source": [
    "u_data \\\n",
    "  .cogroup(u_item) \\\n",
    "  .mapValues(lambda t: (list(t[0]), list(t[1]))) \\\n",
    "  .filter(lambda t: ('5' in t[1][0]) and ('1' in t[1][0])) \\\n",
    "  .map(lambda t: len(t[1][1][0])) \\\n",
    "  .max()"
   ]
  }
 ],
 "metadata": {
  "kernelspec": {
   "display_name": "Python 3",
   "language": "python",
   "name": "python3"
  },
  "language_info": {
   "codemirror_mode": {
    "name": "ipython",
    "version": 3
   },
   "file_extension": ".py",
   "mimetype": "text/x-python",
   "name": "python",
   "nbconvert_exporter": "python",
   "pygments_lexer": "ipython3",
   "version": "3.6.9"
  }
 },
 "nbformat": 4,
 "nbformat_minor": 4
}
