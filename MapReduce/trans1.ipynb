{
 "cells": [
  {
   "cell_type": "markdown",
   "metadata": {},
   "source": [
    "### 입력 데이터 \n",
    "\n",
    "* 위치: input.zip\n",
    "* 파일: input.txt\n",
    "\n",
    "\n",
    "### 문제\n",
    "\n",
    "출현하는 단어의 첫 번째 두 글자의 출현빈도를 세고 출현 빈도가 32보다 작은 (미만; &lt;) 단어들의 출현빈도의 합을 계산하시오.\n",
    "\n",
    "\n",
    "**주의**\n",
    "* 대소문자 구별하지 않음\n",
    "* 첫 두 글자를 카운트하므로 길이가 2와 같거나 보다 긴 단어만 대상으로 함\n",
    "* 공백은 제외\n",
    "* 문장부호(, . ? ‘ “ 등)은 따로 처리하지 않음"
   ]
  },
  {
   "cell_type": "code",
   "execution_count": 2,
   "metadata": {},
   "outputs": [],
   "source": [
    "import findspark\n",
    "findspark.init()\n",
    "from pyspark import SparkContext\n",
    "sc = SparkContext(\"local\", \"trans1\")"
   ]
  },
  {
   "cell_type": "code",
   "execution_count": 3,
   "metadata": {},
   "outputs": [],
   "source": [
    "input_rdd = sc.textFile(\"input.txt\")\n",
    "flatten_rdd = input_rdd.flatMap(lambda line: line.split(' ')).filter(lambda x: len(x)>=2)"
   ]
  },
  {
   "cell_type": "code",
   "execution_count": 16,
   "metadata": {},
   "outputs": [
    {
     "data": {
      "text/plain": [
       "['STUDY',\n",
       " 'IN',\n",
       " 'SCARLET.',\n",
       " 'PART',\n",
       " 'I.',\n",
       " '(Being',\n",
       " 'reprint',\n",
       " 'from',\n",
       " 'the',\n",
       " 'reminiscences',\n",
       " 'of',\n",
       " 'JOHN',\n",
       " 'H.',\n",
       " 'WATSON,',\n",
       " 'M.D.,',\n",
       " 'late',\n",
       " 'of',\n",
       " 'the',\n",
       " 'Army',\n",
       " 'Medical']"
      ]
     },
     "execution_count": 16,
     "metadata": {},
     "output_type": "execute_result"
    }
   ],
   "source": [
    "flatten_rdd.take(20)"
   ]
  },
  {
   "cell_type": "code",
   "execution_count": 19,
   "metadata": {},
   "outputs": [],
   "source": [
    "count = flatten_rdd.map(lambda w: (w[:2].upper(), 1)).reduceByKey(lambda x, y: x+y)"
   ]
  },
  {
   "cell_type": "code",
   "execution_count": 20,
   "metadata": {
    "scrolled": true
   },
   "outputs": [
    {
     "data": {
      "text/plain": [
       "[('ST', 515),\n",
       " ('IN', 1076),\n",
       " ('SC', 70),\n",
       " ('PA', 188),\n",
       " ('I.', 9),\n",
       " ('(B', 1),\n",
       " ('RE', 456),\n",
       " ('FR', 270),\n",
       " ('TH', 4546),\n",
       " ('OF', 1256),\n",
       " ('JO', 74),\n",
       " ('H.', 2),\n",
       " ('WA', 937),\n",
       " ('M.', 2),\n",
       " ('LA', 218),\n",
       " ('AR', 224),\n",
       " ('ME', 371),\n",
       " ('DE', 303),\n",
       " ('CH', 191),\n",
       " ('MR', 42)]"
      ]
     },
     "execution_count": 20,
     "metadata": {},
     "output_type": "execute_result"
    }
   ],
   "source": [
    "count.take(20)"
   ]
  },
  {
   "cell_type": "code",
   "execution_count": 23,
   "metadata": {},
   "outputs": [
    {
     "data": {
      "text/plain": [
       "[('I.', 9),\n",
       " ('(B', 1),\n",
       " ('H.', 2),\n",
       " ('M.', 2),\n",
       " ('18', 2),\n",
       " ('GH', 7),\n",
       " ('“O', 19),\n",
       " ('IR', 14),\n",
       " ('KI', 19),\n",
       " ('AI', 28),\n",
       " ('ID', 24),\n",
       " ('EI', 22),\n",
       " ('NU', 19),\n",
       " ('SK', 22),\n",
       " ('“P', 13),\n",
       " ('“L', 14),\n",
       " ('“B', 27),\n",
       " ('SY', 9),\n",
       " ('EC', 5),\n",
       " ('“D', 18),\n",
       " ('AV', 13),\n",
       " ('“C', 12),\n",
       " ('EF', 14),\n",
       " ('“V', 5),\n",
       " ('BI', 18),\n",
       " ('I’', 26),\n",
       " ('JA', 11),\n",
       " ('‘P', 2),\n",
       " ('“F', 7),\n",
       " ('“M', 24),\n",
       " ('‘S', 1),\n",
       " ('I,', 7),\n",
       " ('‘T', 1),\n",
       " ('“G', 14),\n",
       " ('II', 5),\n",
       " ('22', 4),\n",
       " ('IL', 11),\n",
       " ('UT', 21),\n",
       " ('SQ', 12),\n",
       " ('PH', 4),\n",
       " ('ZE', 1),\n",
       " ('IG', 2),\n",
       " ('1.', 1),\n",
       " ('2.', 1),\n",
       " ('3.', 1),\n",
       " ('4.', 1),\n",
       " ('5.', 1),\n",
       " ('6.', 1),\n",
       " ('7.', 1),\n",
       " ('8.', 2),\n",
       " ('9.', 2),\n",
       " ('10', 2),\n",
       " ('11', 3),\n",
       " ('SW', 16),\n",
       " ('12', 2),\n",
       " ('4T', 3),\n",
       " ('EU', 10),\n",
       " ('EG', 2),\n",
       " ('OD', 4),\n",
       " ('“Q', 1),\n",
       " ('‘H', 5),\n",
       " ('TY', 5),\n",
       " ('ED', 4),\n",
       " ('SN', 15),\n",
       " ('YA', 15),\n",
       " ('“U', 2),\n",
       " ('EP', 5),\n",
       " ('“E', 5),\n",
       " ('EJ', 2),\n",
       " ('3,', 4),\n",
       " ('‘E', 2),\n",
       " ('J.', 6),\n",
       " ('OH', 3),\n",
       " ('U.', 1),\n",
       " ('ES', 16),\n",
       " ('“S', 23),\n",
       " ('ER', 4),\n",
       " ('VU', 2),\n",
       " ('‘3', 1),\n",
       " ('“R', 2),\n",
       " ('97', 1),\n",
       " ('E.', 2),\n",
       " ('D.', 1),\n",
       " ('‘D', 4),\n",
       " ('LY', 10),\n",
       " ('EQ', 2),\n",
       " ('“J', 4),\n",
       " ('46', 2),\n",
       " ('AU', 13),\n",
       " ('‘R', 2),\n",
       " ('IV', 2),\n",
       " ('O’', 24),\n",
       " ('I;', 1),\n",
       " ('A-', 6),\n",
       " ('A,', 1),\n",
       " ('DW', 4),\n",
       " ('OM', 5),\n",
       " ('‘W', 5),\n",
       " ('EH', 2),\n",
       " ('V.', 2),\n",
       " ('HY', 3),\n",
       " ('16', 2),\n",
       " ('‘O', 1),\n",
       " ('“1', 1),\n",
       " ('UL', 1),\n",
       " ('13', 3),\n",
       " ('OA', 3),\n",
       " ('AQ', 1),\n",
       " ('‘U', 1),\n",
       " ('L’', 1),\n",
       " ('14', 1),\n",
       " ('‘Y', 3),\n",
       " ('‘L', 3),\n",
       " ('‘I', 7),\n",
       " ('‘N', 2),\n",
       " ('‘B', 1),\n",
       " ('15', 1),\n",
       " ('‘J', 1),\n",
       " ('OI', 1),\n",
       " ('GN', 1),\n",
       " ('AH', 2),\n",
       " ('OX', 1),\n",
       " ('DY', 4),\n",
       " ('“K', 1),\n",
       " ('19', 1),\n",
       " ('‘M', 1),\n",
       " ('D’', 1),\n",
       " ('MC', 1),\n",
       " ('20', 1),\n",
       " ('‘C', 1),\n",
       " ('ZI', 2),\n",
       " ('UR', 2),\n",
       " ('29', 1),\n",
       " ('28', 1),\n",
       " ('27', 2),\n",
       " ('21', 1),\n",
       " ('EK', 1),\n",
       " ('23', 1),\n",
       " ('AO', 1),\n",
       " ('24', 1),\n",
       " ('25', 1),\n",
       " ('I?', 1),\n",
       " ('26', 1),\n",
       " ('(A', 1),\n",
       " ('IP', 1)]"
      ]
     },
     "execution_count": 23,
     "metadata": {},
     "output_type": "execute_result"
    }
   ],
   "source": [
    "filtered_count = count.filter(lambda x: x[1] < 32)\n",
    "filtered_count.collect()"
   ]
  },
  {
   "cell_type": "code",
   "execution_count": 24,
   "metadata": {},
   "outputs": [
    {
     "name": "stdout",
     "output_type": "stream",
     "text": [
      "830\n"
     ]
    }
   ],
   "source": [
    "res = filtered_count.map(lambda x: x[1]).reduce(lambda x, y: x+y)\n",
    "print(res)"
   ]
  }
 ],
 "metadata": {
  "kernelspec": {
   "display_name": "Python 3",
   "language": "python",
   "name": "python3"
  },
  "language_info": {
   "codemirror_mode": {
    "name": "ipython",
    "version": 3
   },
   "file_extension": ".py",
   "mimetype": "text/x-python",
   "name": "python",
   "nbconvert_exporter": "python",
   "pygments_lexer": "ipython3",
   "version": "3.6.9"
  }
 },
 "nbformat": 4,
 "nbformat_minor": 4
}
