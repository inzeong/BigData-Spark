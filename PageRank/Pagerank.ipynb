{
 "cells": [
  {
   "cell_type": "code",
   "execution_count": 1,
   "metadata": {},
   "outputs": [],
   "source": [
    "from pyspark import SparkContext, SparkConf\n",
    "import numpy as np\n",
    "import matplotlib.pyplot as plt\n",
    "import time\n",
    "import math"
   ]
  },
  {
   "cell_type": "code",
   "execution_count": 24,
   "metadata": {},
   "outputs": [],
   "source": [
    "NUM_OF_PAGES = [1000, 2000, 4000, 8000, 16000]\n",
    "THRESHOLD = 0.01\n",
    "MAX_ITER = 50"
   ]
  },
  {
   "cell_type": "code",
   "execution_count": 3,
   "metadata": {},
   "outputs": [],
   "source": [
    "# conf = SparkConf().setAppName(\"Week 7\") \\\n",
    "#                   .setMaster(\"local\") \\\n",
    "#                   .set(\"spark.executor.memory\", \"16g\") \\\n",
    "#                   .set(\"spark.executor.cores\", \"4\")\n",
    "conf = SparkConf().setAppName(\"Week 7\") \\\n",
    "                  .setMaster(\"local\")\n",
    "sc = SparkContext(conf=conf)"
   ]
  },
  {
   "cell_type": "code",
   "execution_count": 4,
   "metadata": {},
   "outputs": [],
   "source": [
    "def create_setdata(ss):\n",
    "    record = set()\n",
    "    for i in ss:\n",
    "        if i not in record:\n",
    "            record.add(i)\n",
    "        else:\n",
    "            yield record\n",
    "            record = set()\n",
    "    if not record:\n",
    "        yield record\n",
    "        \n",
    "def create_dataset(N):\n",
    "    while True:\n",
    "        s = np.random.default_rng().zipf(1.2, N*10*10)\n",
    "        dataset = list(create_setdata(s[s<N]))\n",
    "        if len(dataset) >= N:\n",
    "            break\n",
    "            \n",
    "    ids = range(N)\n",
    "    return [(i, s) for i, s in zip(ids, dataset[:N])]"
   ]
  },
  {
   "cell_type": "code",
   "execution_count": 5,
   "metadata": {},
   "outputs": [],
   "source": [
    "def create_initial_rank(num_pages):\n",
    "    return {i: 1/num_pages for i in range(num_pages)}"
   ]
  },
  {
   "cell_type": "code",
   "execution_count": 6,
   "metadata": {},
   "outputs": [],
   "source": [
    "def transition(line, pagerank):\n",
    "    source = line[0]\n",
    "    targets = line[1]\n",
    "\n",
    "    for target in targets:\n",
    "        yield target, 0.85*pagerank[source]*(1/len(targets))"
   ]
  },
  {
   "cell_type": "code",
   "execution_count": 7,
   "metadata": {},
   "outputs": [],
   "source": [
    "def compute_diff(old_ranks, new_ranks):\n",
    "    diff = 0\n",
    "    \n",
    "    for key in old_ranks.keys():\n",
    "        diff += abs(old_ranks[key] - new_ranks[key])\n",
    "        \n",
    "    return diff"
   ]
  },
  {
   "cell_type": "code",
   "execution_count": 17,
   "metadata": {},
   "outputs": [],
   "source": [
    "def compute_pagerank(N):\n",
    "    dataset = create_dataset(N)\n",
    "\n",
    "    transitions_rdd = sc.parallelize(dataset) \\\n",
    "                        .cache()\n",
    "    uniform_dist_rdd = sc.parallelize([(i, 0.15 * 1/N) for i in range(N)]) \\\n",
    "                         .cache()\n",
    "    pagerank = {i: 1/N for i in range(N)}\n",
    "\n",
    "    for iter in range(MAX_ITER):\n",
    "        pagerank_bc = sc.broadcast(pagerank)\n",
    "\n",
    "        new_pagerank = transitions_rdd.flatMap(lambda line: transition(line, pagerank_bc.value)) \\\n",
    "                                      .union(uniform_dist_rdd) \\\n",
    "                                      .reduceByKey(lambda a, b: a + b) \\\n",
    "                                      .collect()\n",
    "        new_pagerank = dict(new_pagerank)\n",
    "\n",
    "        pagerank_bc.unpersist()\n",
    "\n",
    "        if compute_diff(pagerank, new_pagerank) < THRESHOLD:\n",
    "            break\n",
    "\n",
    "        pagerank = new_pagerank\n",
    "\n",
    "    transitions_rdd.unpersist()"
   ]
  },
  {
   "cell_type": "code",
   "execution_count": 25,
   "metadata": {},
   "outputs": [
    {
     "name": "stdout",
     "output_type": "stream",
     "text": [
      "Number of pages: 1000\n",
      "Number of pages: 2000\n",
      "Number of pages: 4000\n",
      "Number of pages: 8000\n",
      "Number of pages: 16000\n",
      "[21.878196001052856, 21.965605974197388, 22.106984853744507, 22.41898226737976, 30.474197149276733]\n"
     ]
    }
   ],
   "source": [
    "runtimes = []\n",
    "\n",
    "for N in NUM_OF_PAGES:\n",
    "    print(f\"Number of pages: {N}\")\n",
    "    start_time = time.time()\n",
    "    compute_pagerank(N)\n",
    "    runtime = time.time() - start_time\n",
    "    \n",
    "    runtimes.append(runtime)\n",
    "    \n",
    "print(runtimes)"
   ]
  },
  {
   "cell_type": "code",
   "execution_count": 26,
   "metadata": {},
   "outputs": [
    {
     "data": {
      "image/png": "[encoded data removed]",
      "text/plain": [
       "<Figure size 432x288 with 1 Axes>"
      ]
     },
     "metadata": {
      "needs_background": "light"
     },
     "output_type": "display_data"
    }
   ],
   "source": [
    "plt.plot(runtimes, marker=\"o\")\n",
    "plt.title(\"Pagerank Runtimes\")\n",
    "plt.xlabel(\"Number of Pages\")\n",
    "plt.ylabel(\"Runtime (sec)\")\n",
    "plt.xticks(range(len(NUM_OF_PAGES)), labels=NUM_OF_PAGES)\n",
    "plt.show()"
   ]
  }
 ],
 "metadata": {
  "interpreter": {
   "hash": "99daf25f672dfd28ecc9fd95956e572b49ece662b747b676391e148f5891448a"
  },
  "kernelspec": {
   "display_name": "Python 3.8.11 64-bit ('spark': conda)",
   "name": "python3"
  },
  "language_info": {
   "codemirror_mode": {
    "name": "ipython",
    "version": 3
   },
   "file_extension": ".py",
   "mimetype": "text/x-python",
   "name": "python",
   "nbconvert_exporter": "python",
   "pygments_lexer": "ipython3",
   "version": "3.8.11"
  }
 },
 "nbformat": 4,
 "nbformat_minor": 4
}
