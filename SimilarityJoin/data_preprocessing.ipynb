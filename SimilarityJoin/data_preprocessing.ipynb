{
 "cells": [
  {
   "cell_type": "code",
   "execution_count": 1,
   "source": [
    "import findspark\r\n",
    "findspark.init()"
   ],
   "outputs": [],
   "metadata": {}
  },
  {
   "cell_type": "code",
   "execution_count": 2,
   "source": [
    "from pyspark import SparkContext\r\n",
    "from pyspark.sql import SQLContext, SparkSession\r\n",
    "\r\n",
    "sc = SparkContext(\"local\", \"pbl-1\")\r\n",
    "spark = SparkSession(sc)"
   ],
   "outputs": [],
   "metadata": {}
  },
  {
   "cell_type": "code",
   "execution_count": 3,
   "source": [
    "data = sc.textFile(\"facebook_combined.txt\")\r\n",
    "\r\n",
    "parse_data = data.flatMap(lambda line: line.split('\\n')) \\\r\n",
    "            .map(lambda l:l.split(' ')).map(lambda l: [(int(l[0]),int(l[1])),(int(l[1]),int(l[0]))]).flatMap(lambda t: [t[0],t[1]])"
   ],
   "outputs": [],
   "metadata": {}
  },
  {
   "cell_type": "code",
   "execution_count": 4,
   "source": [
    "group = parse_data.groupByKey().mapValues(list)\r\n",
    "new_group = group.flatMap(lambda l: [(l[0],(len(l[1]), sorted(l[1])))])\r\n",
    "#print(new_group.collect())"
   ],
   "outputs": [],
   "metadata": {}
  },
  {
   "cell_type": "code",
   "execution_count": 5,
   "source": [
    "order = new_group.sortBy(lambda v: v[1])\r\n",
    "R = order.mapValues(lambda v: v[1]).collect()\r\n",
    "#print(R)"
   ],
   "outputs": [],
   "metadata": {}
  },
  {
   "cell_type": "code",
   "execution_count": null,
   "source": [
    "import math\r\n",
    "import time\r\n",
    "\r\n",
    "r_set = [0.6, 0.7, 0.8, 0.9]\r\n",
    "set_idx = {id:i for i,(id,x) in enumerate(R)}\r\n",
    "\r\n",
    "for r in r_set:\r\n",
    "    print(\"# when r = \",r)\r\n",
    "    start = time.time()\r\n",
    "    \r\n",
    "    S = []\r\n",
    "    I = [[] for _ in range(len(R))] # inverted list\r\n",
    "\r\n",
    "    for (x_id, x) in R:\r\n",
    "        max_probe_prefix = len(x) - math.ceil(r*len(x)) + 1\r\n",
    "        max_index_prefix = len(x) - math.ceil(2*len(x)*r/(r+1)) + 1\r\n",
    "        prefix_x = [0]\r\n",
    "        prefix_y = [0]\r\n",
    "        A = [0 for _ in range(len(R))] # overlap score for y\r\n",
    "\r\n",
    "        for i in range(1,max_probe_prefix+1):\r\n",
    "            a = math.ceil((2*len(x)-i+1)*r/(r+1))\r\n",
    "            prefix_x.append(len(x)-a+1)\r\n",
    "            prefix_y.append(len(x)-i+1-a+1)\r\n",
    "\r\n",
    "        for i in range(1,max_probe_prefix+1):\r\n",
    "            w = x[i-1]\r\n",
    "            w_idx = set_idx[w]\r\n",
    "\r\n",
    "            for ((y_id, y),j) in I[w_idx]:\r\n",
    "                if len(y) < r*len(x):\r\n",
    "                    I[w_idx].remove(((y_id,y),j))\r\n",
    "                elif j > prefix_y[len(x)-len(y)+1]:\r\n",
    "                    I[w_idx].remove(((y_id,y),j))\r\n",
    "                elif i > prefix_x[len(x)-len(y)+1]: continue\r\n",
    "                else:\r\n",
    "                    A[set_idx[y_id]] = A[set_idx[y_id]] + 1 # 후보 확정\r\n",
    "\r\n",
    "        for i in range(1,max_index_prefix+1): # x의 원소에 대한 inverted list 추가\r\n",
    "            w = x[i-1]\r\n",
    "            w_idx = set_idx[w]\r\n",
    "            I[w_idx].append(((x_id,x),i))\r\n",
    "\r\n",
    "        for i in range(len(R)): # 후보 검증 후 S에 추가\r\n",
    "            (y_id, y) = R[i]\r\n",
    "\r\n",
    "            if A[i] == 0: continue # prefix 안에 공통 토큰이 하나도 없다면 제외\r\n",
    "\r\n",
    "            a = math.ceil((len(x)+len(y))*r/(r+1))\r\n",
    "\r\n",
    "            (p,q,cnt) = (0,0,0)\r\n",
    "            \r\n",
    "            while(p<len(x) and q<len(y)):# 공통 토큰 개수 카운트\r\n",
    "                if x[p] == y[q]:\r\n",
    "                    cnt = cnt+1\r\n",
    "                    p = p+1\r\n",
    "                    q = q+1\r\n",
    "                elif cnt+min(len(x)-p-1,len(y)-q-1) < a: break # positional filtering\r\n",
    "                elif x[p] < y[q]: p = p+1\r\n",
    "                else: q = q+1\r\n",
    "            if cnt >= a and y_id not in x: # x와 y가 이미 친구인 경우는 제외\r\n",
    "                S.append((x_id, y_id))\r\n",
    "    \r\n",
    "    end = time.time()\r\n",
    "    print(S)\r\n",
    "    \r\n",
    "    print('duration : ', end-start)"
   ],
   "outputs": [],
   "metadata": {}
  }
 ],
 "metadata": {
  "kernelspec": {
   "display_name": "Python 3",
   "language": "python",
   "name": "python3"
  },
  "language_info": {
   "codemirror_mode": {
    "name": "ipython",
    "version": 3
   },
   "file_extension": ".py",
   "mimetype": "text/x-python",
   "name": "python",
   "nbconvert_exporter": "python",
   "pygments_lexer": "ipython3",
   "version": "3.6.9"
  }
 },
 "nbformat": 4,
 "nbformat_minor": 4
}