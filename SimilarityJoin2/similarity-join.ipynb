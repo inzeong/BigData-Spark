{
 "cells": [
  {
   "cell_type": "code",
   "execution_count": 1,
   "metadata": {},
   "outputs": [],
   "source": [
    "import numpy as np\n",
    "import matplotlib.pyplot as plt\n",
    "import math\n",
    "import time\n",
    "\n",
    "from pyspark import SparkConf, SparkContext\n",
    "from functools import partial\n",
    "from itertools import combinations"
   ]
  },
  {
   "cell_type": "code",
   "execution_count": 2,
   "metadata": {},
   "outputs": [],
   "source": [
    "conf = SparkConf().setAppName(\"SimilarityJoin\") \\\n",
    "                  .setMaster(\"local\") \\\n",
    "                  .set(\"spark.executor.memory\", \"4g\") \\\n",
    "                  .set(\"spark.executor.cores\", \"1\")\n",
    "\n",
    "sc = SparkContext(conf=conf)"
   ]
  },
  {
   "cell_type": "code",
   "execution_count": 3,
   "metadata": {},
   "outputs": [],
   "source": [
    "MINVAL = 0.0\n",
    "MAXVAL = 1.0"
   ]
  },
  {
   "cell_type": "code",
   "execution_count": 4,
   "metadata": {},
   "outputs": [],
   "source": [
    "THRESHOLD = 0.01\n",
    "NUM_BLOCKS = [1, 2, 4, 8]\n",
    "JACCARD_THRESHOLD = [0.6, 0.7, 0.8, 0.9]\n",
    "Ns = [200, 400, 800, 1600]"
   ]
  },
  {
   "cell_type": "markdown",
   "metadata": {},
   "source": [
    "## Similarity Join"
   ]
  },
  {
   "cell_type": "code",
   "execution_count": 5,
   "metadata": {},
   "outputs": [],
   "source": [
    "def create_dataset(N, D=2, minval=MINVAL, maxval=MAXVAL):\n",
    "    dataset = np.zeros((N, D + 1))\n",
    "    dataset[:, 0] = np.arange(N)\n",
    "    \n",
    "    dataset[:, 1:] = np.random.rand(N, D) * (maxval - minval) + minval\n",
    "    return dataset"
   ]
  },
  {
   "cell_type": "code",
   "execution_count": 6,
   "metadata": {},
   "outputs": [],
   "source": [
    "def _create_setdata(ss):\n",
    "    record = set()\n",
    "    for i in ss:\n",
    "        if i not in record:\n",
    "            record.add(i)\n",
    "        else:\n",
    "            yield record\n",
    "            record = set()\n",
    "    if not record:\n",
    "        yield record"
   ]
  },
  {
   "cell_type": "code",
   "execution_count": 7,
   "metadata": {},
   "outputs": [],
   "source": [
    "def create_setdata(N, D=10000):\n",
    "    while True:\n",
    "        s = np.random.default_rng().zipf(1.2, N*10*10)\n",
    "        dataset = list(_create_setdata(s[s < D]))\n",
    "        if len(dataset) >= N:\n",
    "            break\n",
    "            \n",
    "    ids = range(N)\n",
    "    return [\n",
    "        (i, s) for i, s in zip(ids, dataset[:N])\n",
    "    ]"
   ]
  },
  {
   "cell_type": "code",
   "execution_count": 8,
   "metadata": {},
   "outputs": [],
   "source": [
    "def split_blocks(point, num_blocks):\n",
    "    point_id = point[0]\n",
    "    x, y = point[1:]\n",
    "    \n",
    "    block_id = int(point_id) % num_blocks\n",
    "    \n",
    "    for i in range(block_id):\n",
    "        yield (i, block_id), (point_id, block_id, x, y)\n",
    "    for i in range(block_id, num_blocks):\n",
    "        yield (block_id, i), (point_id, block_id, x, y)"
   ]
  },
  {
   "cell_type": "code",
   "execution_count": 9,
   "metadata": {},
   "outputs": [],
   "source": [
    "def filter_distance(pairs):\n",
    "    pair1, pair2 = list(pairs[1])\n",
    "    \n",
    "    point_id1, _, x1, y1 = pair1\n",
    "    point_id2, _, x2, y2 = pair2\n",
    "    \n",
    "    dist = math.sqrt((x1 - x2)**2 + (y1 - y2)**2)\n",
    "    if point_id1 != point_id2 and dist < THRESHOLD:\n",
    "        return True\n",
    "    else:\n",
    "        return False"
   ]
  },
  {
   "cell_type": "code",
   "execution_count": 11,
   "metadata": {},
   "outputs": [],
   "source": [
    "def similarity_join(N, num_blocks):\n",
    "    dataset = create_dataset(N)\n",
    "    data = sc.parallelize(dataset.tolist())\n",
    "    \n",
    "    data_rdd = data.flatMap(partial(split_blocks, num_blocks=num_blocks))\n",
    "    \n",
    "    def join_condition(pair):\n",
    "        g1, g2 = pair[0]\n",
    "        points = list(pair[1])\n",
    "        \n",
    "        if g1 == g2:\n",
    "            for i in range(len(points) - 1):\n",
    "                for j in range(i+1, len(points)):\n",
    "                    p1 = points[i]\n",
    "                    p2 = points[j]\n",
    "                    diff = math.sqrt((p1[2] - p2[2])**2 + (p1[3] - p2[3])**2)\n",
    "                    \n",
    "                    if diff < THRESHOLD:\n",
    "                        yield (g1, g2), (p1, p2)\n",
    "        else:\n",
    "            group1 = list(filter(lambda p: p[1] == g1, points))\n",
    "            group2 = list(filter(lambda p: p[1] == g2, points))\n",
    "            \n",
    "            for i in range(len(group1)):\n",
    "                for j in range(len(group2)):\n",
    "                    p1 = group1[i]\n",
    "                    p2 = group2[j]\n",
    "                    diff = math.sqrt((p1[2] - p2[2])**2 + (p1[3] - p2[3])**2)\n",
    "                    \n",
    "                    if diff < THRESHOLD:\n",
    "                        yield (g1, g2), (p1, p2)\n",
    "        \n",
    "    count = data_rdd.groupByKey() \\\n",
    "                    .flatMap(join_condition) \\\n",
    "                    .count()\n",
    "            \n",
    "    return count"
   ]
  },
  {
   "cell_type": "code",
   "execution_count": 16,
   "metadata": {},
   "outputs": [
    {
     "name": "stdout",
     "output_type": "stream",
     "text": [
      "8\n",
      "23\n",
      "101\n",
      "409\n"
     ]
    }
   ],
   "source": [
    "for N in Ns:\n",
    "    print(similarity_join(N, 8))"
   ]
  },
  {
   "cell_type": "code",
   "execution_count": 17,
   "metadata": {},
   "outputs": [
    {
     "name": "stdout",
     "output_type": "stream",
     "text": [
      "N: 200, num of blocks: 1\n",
      "N: 400, num of blocks: 1\n",
      "N: 800, num of blocks: 1\n",
      "N: 1600, num of blocks: 1\n",
      "N: 200, num of blocks: 2\n",
      "N: 400, num of blocks: 2\n",
      "N: 800, num of blocks: 2\n",
      "N: 1600, num of blocks: 2\n",
      "N: 200, num of blocks: 4\n",
      "N: 400, num of blocks: 4\n",
      "N: 800, num of blocks: 4\n",
      "N: 1600, num of blocks: 4\n",
      "N: 200, num of blocks: 8\n",
      "N: 400, num of blocks: 8\n",
      "N: 800, num of blocks: 8\n",
      "N: 1600, num of blocks: 8\n",
      "[[1.1629979610443115, 1.200247049331665, 1.3071696758270264, 1.9175138473510742], [1.1417417526245117, 1.2000303268432617, 1.3806250095367432, 2.011664628982544], [1.2266523838043213, 1.2752015590667725, 1.4418611526489258, 1.9392168521881104], [1.1362049579620361, 1.2154722213745117, 1.351912498474121, 1.9490160942077637]]\n"
     ]
    }
   ],
   "source": [
    "runtimes = []\n",
    "\n",
    "for num_blocks in NUM_BLOCKS:\n",
    "    runtime = []\n",
    "    \n",
    "    for N in Ns:\n",
    "        print(f\"N: {N}, num of blocks: {num_blocks}\")\n",
    "        start_time = time.time()\n",
    "        similarity_join(N, num_blocks)\n",
    "        runtime.append(time.time() - start_time)\n",
    "        \n",
    "    runtimes.append(runtime)\n",
    "    \n",
    "print(runtimes)"
   ]
  },
  {
   "cell_type": "code",
   "execution_count": 18,
   "metadata": {},
   "outputs": [],
   "source": [
    "runtimes = np.array(runtimes)"
   ]
  },
  {
   "cell_type": "code",
   "execution_count": 19,
   "metadata": {},
   "outputs": [
    {
     "data": {
      "image/png": "[encoded data removed]",
      "text/plain": [
       "<Figure size 432x288 with 1 Axes>"
      ]
     },
     "metadata": {
      "needs_background": "light"
     },
     "output_type": "display_data"
    }
   ],
   "source": [
    "for i, runtime in enumerate(runtimes):\n",
    "    plt.plot(runtime, marker=\"s\", label=f\"{NUM_BLOCKS[i]}\")\n",
    "    \n",
    "plt.title(\"Similarity Join\")\n",
    "plt.ylabel(\"Runtime\")\n",
    "plt.xlabel(\"N\")\n",
    "plt.xticks(ticks=range(4), labels=[f\"{n}\" for n in Ns])\n",
    "plt.legend()\n",
    "plt.show()"
   ]
  },
  {
   "cell_type": "code",
   "execution_count": 20,
   "metadata": {},
   "outputs": [
    {
     "data": {
      "image/png": "[encoded data removed]",
      "text/plain": [
       "<Figure size 432x288 with 1 Axes>"
      ]
     },
     "metadata": {
      "needs_background": "light"
     },
     "output_type": "display_data"
    }
   ],
   "source": [
    "for i, runtime in enumerate(runtimes.T):\n",
    "    plt.plot(runtime, marker=\"s\", label=f\"{Ns[i]}\")\n",
    "    \n",
    "plt.title(\"Similarity Join\")\n",
    "plt.ylabel(\"Runtime\")\n",
    "plt.xlabel(\"Num Groups\")\n",
    "plt.xticks(ticks=range(4), labels=[f\"{n}\" for n in NUM_BLOCKS])\n",
    "plt.legend()\n",
    "plt.show()"
   ]
  },
  {
   "cell_type": "markdown",
   "metadata": {},
   "source": [
    "# Quiz 2. Set Similarity Join"
   ]
  },
  {
   "cell_type": "code",
   "execution_count": 80,
   "metadata": {},
   "outputs": [],
   "source": [
    "def create_inverted_list(line):\n",
    "    set_id = line[0]\n",
    "    elems = line[1]\n",
    "    \n",
    "    n = len(elems)\n",
    "    \n",
    "    for elem in elems:\n",
    "        yield elem, set_id"
   ]
  },
  {
   "cell_type": "code",
   "execution_count": 4,
   "metadata": {},
   "outputs": [],
   "source": [
    "def create_inverted_list_with_prefix(line, threshold):\n",
    "    set_id = line[0]\n",
    "    elems = line[1]\n",
    "    \n",
    "    n = len(elems)\n",
    "    \n",
    "    for i, elem in enumerate(elems):\n",
    "        if i < n + int(math.ceil(n * threshold)) + 1:\n",
    "            yield elem, set_id\n",
    "        else:\n",
    "            break"
   ]
  },
  {
   "cell_type": "code",
   "execution_count": 40,
   "metadata": {},
   "outputs": [],
   "source": [
    "def create_candidates(elem_and_set_ids):\n",
    "    set_ids = elem_and_set_ids[1]\n",
    "    \n",
    "    for comb in combinations(set_ids, 2):\n",
    "        comb = tuple(sorted(comb))\n",
    "        yield comb, 1"
   ]
  },
  {
   "cell_type": "code",
   "execution_count": 6,
   "metadata": {},
   "outputs": [],
   "source": [
    "def compute_length(pair, N):\n",
    "    setid = pair[0]\n",
    "    elems = pair[1]\n",
    "    \n",
    "    for i in range(N):\n",
    "        if i < setid:\n",
    "            yield (i, setid), len(elems)\n",
    "        elif i > setid:\n",
    "            yield (setid, i), len(elems)"
   ]
  },
  {
   "cell_type": "code",
   "execution_count": 85,
   "metadata": {},
   "outputs": [],
   "source": [
    "def set_similarity_join(N, threshold):\n",
    "    dataset = create_setdata(N)\n",
    "    dataset_rdd = sc.parallelize(dataset) \\\n",
    "                    .filter(lambda pair: len(pair[1]) >= 5).cache()\n",
    "    \n",
    "    threshold_rdd = dataset_rdd.flatMap(lambda pair: compute_length(pair, N)) \\\n",
    "                               .reduceByKey(lambda a, b: a + b) \\\n",
    "                               .mapValues(lambda v: (threshold / (1 + threshold)) * v)\n",
    "\n",
    "    count = dataset_rdd.flatMap(create_inverted_list) \\\n",
    "                       .groupByKey() \\\n",
    "                       .flatMap(create_candidates) \\\n",
    "                       .reduceByKey(lambda a, b: a + b) \\\n",
    "                       .join(threshold_rdd) \\\n",
    "                       .filter(lambda v: v[1][0] >= v[1][1]) \\\n",
    "                       .count()\n",
    "    \n",
    "    return count"
   ]
  },
  {
   "cell_type": "code",
   "execution_count": 86,
   "metadata": {},
   "outputs": [],
   "source": [
    "# def set_similarity_join2(N, threshold):\n",
    "#     dataset = create_setdata(N)\n",
    "#     dataset_rdd = sc.parallelize(dataset) \\\n",
    "#                     .filter(lambda pair: len(pair[1]) >= 5)\n",
    "\n",
    "#     count = dataset_rdd.flatMap(partial(create_inverted_list_with_prefix, threshold=threshold)) \\\n",
    "#                        .groupByKey() \\\n",
    "#                        .flatMap(create_candidates) \\\n",
    "#                        .distinct() \\\n",
    "#                        .count()\n",
    "    \n",
    "#     return count"
   ]
  },
  {
   "cell_type": "code",
   "execution_count": 87,
   "metadata": {},
   "outputs": [
    {
     "name": "stdout",
     "output_type": "stream",
     "text": [
      "N: 200, threshold: 0.6\n",
      "0\n",
      "N: 400, threshold: 0.6\n",
      "1\n",
      "N: 800, threshold: 0.6\n",
      "9\n",
      "N: 1600, threshold: 0.6\n",
      "21\n",
      "N: 200, threshold: 0.7\n",
      "0\n",
      "N: 400, threshold: 0.7\n",
      "0\n",
      "N: 800, threshold: 0.7\n",
      "1\n",
      "N: 1600, threshold: 0.7\n",
      "1\n",
      "N: 200, threshold: 0.8\n",
      "0\n",
      "N: 400, threshold: 0.8\n",
      "0\n",
      "N: 800, threshold: 0.8\n",
      "1\n",
      "N: 1600, threshold: 0.8\n",
      "0\n",
      "N: 200, threshold: 0.9\n",
      "0\n",
      "N: 400, threshold: 0.9\n",
      "0\n",
      "N: 800, threshold: 0.9\n",
      "0\n",
      "N: 1600, threshold: 0.9\n",
      "0\n"
     ]
    }
   ],
   "source": [
    "for threshold in JACCARD_THRESHOLD:\n",
    "    \n",
    "    for N in Ns:\n",
    "        print(f\"N: {N}, threshold: {threshold}\")\n",
    "        print(set_similarity_join(N, threshold))"
   ]
  },
  {
   "cell_type": "code",
   "execution_count": 88,
   "metadata": {},
   "outputs": [
    {
     "name": "stdout",
     "output_type": "stream",
     "text": [
      "N: 200, threshold: 0.6\n",
      "N: 400, threshold: 0.6\n",
      "N: 800, threshold: 0.6\n",
      "N: 1600, threshold: 0.6\n",
      "N: 200, threshold: 0.7\n",
      "N: 400, threshold: 0.7\n",
      "N: 800, threshold: 0.7\n",
      "N: 1600, threshold: 0.7\n",
      "N: 200, threshold: 0.8\n",
      "N: 400, threshold: 0.8\n",
      "N: 800, threshold: 0.8\n",
      "N: 1600, threshold: 0.8\n",
      "N: 200, threshold: 0.9\n",
      "N: 400, threshold: 0.9\n",
      "N: 800, threshold: 0.9\n",
      "N: 1600, threshold: 0.9\n",
      "[[14.704907178878784, 15.176168203353882, 16.355415105819702, 19.786986112594604], [15.174668312072754, 15.691720724105835, 16.112298488616943, 21.236398220062256], [15.162031412124634, 14.812295198440552, 16.532480478286743, 20.134730577468872], [15.269489049911499, 15.010812044143677, 15.908846378326416, 20.299805879592896]]\n"
     ]
    }
   ],
   "source": [
    "runtimes_set = []\n",
    "\n",
    "for threshold in JACCARD_THRESHOLD:\n",
    "    runtime_set = []\n",
    "    \n",
    "    for N in Ns:\n",
    "        print(f\"N: {N}, threshold: {threshold}\")\n",
    "        start_time = time.time()\n",
    "        set_similarity_join(N, threshold)\n",
    "        runtime_set.append(time.time() - start_time)\n",
    "        \n",
    "    runtimes_set.append(runtime_set)\n",
    "    \n",
    "print(runtimes_set)"
   ]
  },
  {
   "cell_type": "code",
   "execution_count": 89,
   "metadata": {},
   "outputs": [
    {
     "name": "stdout",
     "output_type": "stream",
     "text": [
      "(4, 4)\n"
     ]
    }
   ],
   "source": [
    "runtimes_set = np.array(runtimes_set)\n",
    "print(runtimes_set.shape)"
   ]
  },
  {
   "cell_type": "code",
   "execution_count": 90,
   "metadata": {},
   "outputs": [
    {
     "data": {
      "image/png": "[encoded data removed]",
      "text/plain": [
       "<Figure size 432x288 with 1 Axes>"
      ]
     },
     "metadata": {
      "needs_background": "light"
     },
     "output_type": "display_data"
    }
   ],
   "source": [
    "for i, runtime_set in enumerate(runtimes_set):\n",
    "    plt.plot(runtime_set, marker=\"s\", label=f\"{JACCARD_THRESHOLD[i]}\")\n",
    "    \n",
    "plt.title(\"Set Similarity Join\")\n",
    "plt.ylabel(\"Runtime\")\n",
    "plt.xlabel(\"N\")\n",
    "plt.xticks(ticks=range(4), labels=[f\"{n}\" for n in Ns])\n",
    "plt.legend()\n",
    "plt.show()"
   ]
  },
  {
   "cell_type": "code",
   "execution_count": 91,
   "metadata": {},
   "outputs": [
    {
     "data": {
      "image/png": "[encoded data removed]",
      "text/plain": [
       "<Figure size 432x288 with 1 Axes>"
      ]
     },
     "metadata": {
      "needs_background": "light"
     },
     "output_type": "display_data"
    }
   ],
   "source": [
    "for i, runtime_set in enumerate(runtimes_set.T):\n",
    "    plt.plot(runtime_set, marker=\"s\", label=f\"{Ns[i]}\")\n",
    "    \n",
    "plt.title(\"Set Similarity Join\")\n",
    "plt.ylabel(\"Runtime\")\n",
    "plt.xlabel(\"Threshold\")\n",
    "plt.xticks(ticks=range(4), labels=[f\"{t}\" for t in JACCARD_THRESHOLD])\n",
    "plt.legend()\n",
    "plt.show()"
   ]
  }
 ],
 "metadata": {
  "kernelspec": {
   "display_name": "Python 3",
   "language": "python",
   "name": "python3"
  },
  "language_info": {
   "codemirror_mode": {
    "name": "ipython",
    "version": 3
   },
   "file_extension": ".py",
   "mimetype": "text/x-python",
   "name": "python",
   "nbconvert_exporter": "python",
   "pygments_lexer": "ipython3",
   "version": "3.7.7"
  }
 },
 "nbformat": 4,
 "nbformat_minor": 4
}
